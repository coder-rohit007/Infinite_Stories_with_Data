{
 "cells": [
  {
   "cell_type": "code",
   "execution_count": 1,
   "metadata": {
    "_cell_guid": "79c7e3d0-c299-4dcb-8224-4455121ee9b0",
    "_kg_hide-input": true,
    "_kg_hide-output": true,
    "_uuid": "d629ff2d2480ee46fbb7e2d37f6b5fab8052498a",
    "collapsed": true
   },
   "outputs": [
    {
     "name": "stdout",
     "output_type": "stream",
     "text": [
      "Collecting joypy\r\n",
      "  Downloading joypy-0.2.2-py2.py3-none-any.whl (8.3 kB)\r\n",
      "Requirement already satisfied: matplotlib in /opt/conda/lib/python3.7/site-packages (from joypy) (3.2.1)\r\n",
      "Requirement already satisfied: scipy>=0.11.0 in /opt/conda/lib/python3.7/site-packages (from joypy) (1.4.1)\r\n",
      "Requirement already satisfied: pandas>=0.20.0 in /opt/conda/lib/python3.7/site-packages (from joypy) (1.0.3)\r\n",
      "Requirement already satisfied: numpy in /opt/conda/lib/python3.7/site-packages (from joypy) (1.18.1)\r\n",
      "Requirement already satisfied: kiwisolver>=1.0.1 in /opt/conda/lib/python3.7/site-packages (from matplotlib->joypy) (1.2.0)\r\n",
      "Requirement already satisfied: python-dateutil>=2.1 in /opt/conda/lib/python3.7/site-packages (from matplotlib->joypy) (2.8.1)\r\n",
      "Requirement already satisfied: pyparsing!=2.0.4,!=2.1.2,!=2.1.6,>=2.0.1 in /opt/conda/lib/python3.7/site-packages (from matplotlib->joypy) (2.4.7)\r\n",
      "Requirement already satisfied: cycler>=0.10 in /opt/conda/lib/python3.7/site-packages (from matplotlib->joypy) (0.10.0)\r\n",
      "Requirement already satisfied: pytz>=2017.2 in /opt/conda/lib/python3.7/site-packages (from pandas>=0.20.0->joypy) (2019.3)\r\n",
      "Requirement already satisfied: six>=1.5 in /opt/conda/lib/python3.7/site-packages (from python-dateutil>=2.1->matplotlib->joypy) (1.14.0)\r\n",
      "Installing collected packages: joypy\r\n",
      "Successfully installed joypy-0.2.2\r\n"
     ]
    }
   ],
   "source": [
    "import numpy as np\n",
    "import pandas as pd\n",
    "import matplotlib.pyplot as plt\n",
    "import seaborn as sns\n",
    "%matplotlib inline\n",
    "import plotly.express as px\n",
    "from pandas_profiling import ProfileReport\n",
    "from plotly.offline import iplot\n",
    "!pip install joypy\n",
    "import joypy\n",
    "from sklearn.cluster import KMeans\n",
    "\n",
    "plt.rcParams['figure.figsize'] = 8, 5\n",
    "plt.style.use(\"fivethirtyeight\")\n",
    "\n",
    "data = pd.read_csv('../input/world-bank-youth-unemployment/API_ILO_country_YU.csv')"
   ]
  },
  {
   "cell_type": "markdown",
   "execution_count": null,
   "metadata": {},
   "source": [
    "<h1 style=\"font-size:40px\">Description of Data</h1>"
   ]
  },
  {
   "cell_type": "markdown",
   "execution_count": null,
   "metadata": {},
   "source": [
    "<img src=\"https://www.investopedia.com/thmb/G-f1etpNlgfR4UkDjN3E8pmgcrA=/735x0/unemployment-5bfc344bc9e77c00519c4b43.jpg\">"
   ]
  },
  {
   "cell_type": "markdown",
   "execution_count": null,
   "metadata": {},
   "source": [
    "Unemployment, according to the Organisation for Economic Co-operation and Development (OECD), is persons above a specified age (usually above 15) not being in paid employment or self-employment but currently available for work during the reference period.\n",
    "\n",
    "Unemployment is measured by the unemployment rate as the number of people who are unemployed as a percentage of the labour force (the total number of people employed added to those unemployed)."
   ]
  },
  {
   "cell_type": "code",
   "execution_count": 2,
   "metadata": {},
   "outputs": [
    {
     "data": {
      "text/html": [
       "<div>\n",
       "<style scoped>\n",
       "    .dataframe tbody tr th:only-of-type {\n",
       "        vertical-align: middle;\n",
       "    }\n",
       "\n",
       "    .dataframe tbody tr th {\n",
       "        vertical-align: top;\n",
       "    }\n",
       "\n",
       "    .dataframe thead th {\n",
       "        text-align: right;\n",
       "    }\n",
       "</style>\n",
       "<table border=\"1\" class=\"dataframe\">\n",
       "  <thead>\n",
       "    <tr style=\"text-align: right;\">\n",
       "      <th></th>\n",
       "      <th>Country Name</th>\n",
       "      <th>Country Code</th>\n",
       "      <th>2010</th>\n",
       "      <th>2011</th>\n",
       "      <th>2012</th>\n",
       "      <th>2013</th>\n",
       "      <th>2014</th>\n",
       "    </tr>\n",
       "  </thead>\n",
       "  <tbody>\n",
       "    <tr>\n",
       "      <th>count</th>\n",
       "      <td>219</td>\n",
       "      <td>219</td>\n",
       "      <td>219.000000</td>\n",
       "      <td>219.000000</td>\n",
       "      <td>219.000000</td>\n",
       "      <td>219.000000</td>\n",
       "      <td>219.000000</td>\n",
       "    </tr>\n",
       "    <tr>\n",
       "      <th>unique</th>\n",
       "      <td>219</td>\n",
       "      <td>219</td>\n",
       "      <td>NaN</td>\n",
       "      <td>NaN</td>\n",
       "      <td>NaN</td>\n",
       "      <td>NaN</td>\n",
       "      <td>NaN</td>\n",
       "    </tr>\n",
       "    <tr>\n",
       "      <th>top</th>\n",
       "      <td>Rwanda</td>\n",
       "      <td>BTN</td>\n",
       "      <td>NaN</td>\n",
       "      <td>NaN</td>\n",
       "      <td>NaN</td>\n",
       "      <td>NaN</td>\n",
       "      <td>NaN</td>\n",
       "    </tr>\n",
       "    <tr>\n",
       "      <th>freq</th>\n",
       "      <td>1</td>\n",
       "      <td>1</td>\n",
       "      <td>NaN</td>\n",
       "      <td>NaN</td>\n",
       "      <td>NaN</td>\n",
       "      <td>NaN</td>\n",
       "      <td>NaN</td>\n",
       "    </tr>\n",
       "    <tr>\n",
       "      <th>mean</th>\n",
       "      <td>NaN</td>\n",
       "      <td>NaN</td>\n",
       "      <td>17.892957</td>\n",
       "      <td>17.902713</td>\n",
       "      <td>18.148142</td>\n",
       "      <td>18.100429</td>\n",
       "      <td>17.943539</td>\n",
       "    </tr>\n",
       "    <tr>\n",
       "      <th>std</th>\n",
       "      <td>NaN</td>\n",
       "      <td>NaN</td>\n",
       "      <td>10.540099</td>\n",
       "      <td>10.887558</td>\n",
       "      <td>11.430862</td>\n",
       "      <td>11.674366</td>\n",
       "      <td>11.554674</td>\n",
       "    </tr>\n",
       "    <tr>\n",
       "      <th>min</th>\n",
       "      <td>NaN</td>\n",
       "      <td>NaN</td>\n",
       "      <td>0.700000</td>\n",
       "      <td>0.700000</td>\n",
       "      <td>0.500000</td>\n",
       "      <td>0.700000</td>\n",
       "      <td>0.700000</td>\n",
       "    </tr>\n",
       "    <tr>\n",
       "      <th>25%</th>\n",
       "      <td>NaN</td>\n",
       "      <td>NaN</td>\n",
       "      <td>10.600000</td>\n",
       "      <td>10.410530</td>\n",
       "      <td>10.500000</td>\n",
       "      <td>10.490677</td>\n",
       "      <td>10.500000</td>\n",
       "    </tr>\n",
       "    <tr>\n",
       "      <th>50%</th>\n",
       "      <td>NaN</td>\n",
       "      <td>NaN</td>\n",
       "      <td>14.900000</td>\n",
       "      <td>14.523908</td>\n",
       "      <td>14.400000</td>\n",
       "      <td>14.100000</td>\n",
       "      <td>14.124300</td>\n",
       "    </tr>\n",
       "    <tr>\n",
       "      <th>75%</th>\n",
       "      <td>NaN</td>\n",
       "      <td>NaN</td>\n",
       "      <td>23.000000</td>\n",
       "      <td>23.200001</td>\n",
       "      <td>24.616293</td>\n",
       "      <td>23.435561</td>\n",
       "      <td>23.310668</td>\n",
       "    </tr>\n",
       "    <tr>\n",
       "      <th>max</th>\n",
       "      <td>NaN</td>\n",
       "      <td>NaN</td>\n",
       "      <td>57.200001</td>\n",
       "      <td>57.099998</td>\n",
       "      <td>61.700001</td>\n",
       "      <td>58.000000</td>\n",
       "      <td>57.900002</td>\n",
       "    </tr>\n",
       "  </tbody>\n",
       "</table>\n",
       "</div>"
      ],
      "text/plain": [
       "       Country Name Country Code        2010        2011        2012  \\\n",
       "count           219          219  219.000000  219.000000  219.000000   \n",
       "unique          219          219         NaN         NaN         NaN   \n",
       "top          Rwanda          BTN         NaN         NaN         NaN   \n",
       "freq              1            1         NaN         NaN         NaN   \n",
       "mean            NaN          NaN   17.892957   17.902713   18.148142   \n",
       "std             NaN          NaN   10.540099   10.887558   11.430862   \n",
       "min             NaN          NaN    0.700000    0.700000    0.500000   \n",
       "25%             NaN          NaN   10.600000   10.410530   10.500000   \n",
       "50%             NaN          NaN   14.900000   14.523908   14.400000   \n",
       "75%             NaN          NaN   23.000000   23.200001   24.616293   \n",
       "max             NaN          NaN   57.200001   57.099998   61.700001   \n",
       "\n",
       "              2013        2014  \n",
       "count   219.000000  219.000000  \n",
       "unique         NaN         NaN  \n",
       "top            NaN         NaN  \n",
       "freq           NaN         NaN  \n",
       "mean     18.100429   17.943539  \n",
       "std      11.674366   11.554674  \n",
       "min       0.700000    0.700000  \n",
       "25%      10.490677   10.500000  \n",
       "50%      14.100000   14.124300  \n",
       "75%      23.435561   23.310668  \n",
       "max      58.000000   57.900002  "
      ]
     },
     "execution_count": 2,
     "metadata": {},
     "output_type": "execute_result"
    }
   ],
   "source": [
    "# describing the data\n",
    "\n",
    "data.describe(include='all')"
   ]
  },
  {
   "cell_type": "code",
   "execution_count": 3,
   "metadata": {},
   "outputs": [
    {
     "data": {
      "text/html": [
       "<div>\n",
       "<style scoped>\n",
       "    .dataframe tbody tr th:only-of-type {\n",
       "        vertical-align: middle;\n",
       "    }\n",
       "\n",
       "    .dataframe tbody tr th {\n",
       "        vertical-align: top;\n",
       "    }\n",
       "\n",
       "    .dataframe thead th {\n",
       "        text-align: right;\n",
       "    }\n",
       "</style>\n",
       "<table border=\"1\" class=\"dataframe\">\n",
       "  <thead>\n",
       "    <tr style=\"text-align: right;\">\n",
       "      <th></th>\n",
       "      <th>2010</th>\n",
       "      <th>2011</th>\n",
       "      <th>2012</th>\n",
       "      <th>2013</th>\n",
       "      <th>2014</th>\n",
       "    </tr>\n",
       "  </thead>\n",
       "  <tbody>\n",
       "    <tr>\n",
       "      <th>2010</th>\n",
       "      <td>111.093688</td>\n",
       "      <td>111.456673</td>\n",
       "      <td>114.713348</td>\n",
       "      <td>114.387581</td>\n",
       "      <td>113.248175</td>\n",
       "    </tr>\n",
       "    <tr>\n",
       "      <th>2011</th>\n",
       "      <td>111.456673</td>\n",
       "      <td>118.538909</td>\n",
       "      <td>122.713660</td>\n",
       "      <td>123.061025</td>\n",
       "      <td>121.558991</td>\n",
       "    </tr>\n",
       "    <tr>\n",
       "      <th>2012</th>\n",
       "      <td>114.713348</td>\n",
       "      <td>122.713660</td>\n",
       "      <td>130.664609</td>\n",
       "      <td>132.082329</td>\n",
       "      <td>130.131639</td>\n",
       "    </tr>\n",
       "    <tr>\n",
       "      <th>2013</th>\n",
       "      <td>114.387581</td>\n",
       "      <td>123.061025</td>\n",
       "      <td>132.082329</td>\n",
       "      <td>136.290812</td>\n",
       "      <td>133.999850</td>\n",
       "    </tr>\n",
       "    <tr>\n",
       "      <th>2014</th>\n",
       "      <td>113.248175</td>\n",
       "      <td>121.558991</td>\n",
       "      <td>130.131639</td>\n",
       "      <td>133.999850</td>\n",
       "      <td>133.510501</td>\n",
       "    </tr>\n",
       "  </tbody>\n",
       "</table>\n",
       "</div>"
      ],
      "text/plain": [
       "            2010        2011        2012        2013        2014\n",
       "2010  111.093688  111.456673  114.713348  114.387581  113.248175\n",
       "2011  111.456673  118.538909  122.713660  123.061025  121.558991\n",
       "2012  114.713348  122.713660  130.664609  132.082329  130.131639\n",
       "2013  114.387581  123.061025  132.082329  136.290812  133.999850\n",
       "2014  113.248175  121.558991  130.131639  133.999850  133.510501"
      ]
     },
     "execution_count": 3,
     "metadata": {},
     "output_type": "execute_result"
    }
   ],
   "source": [
    "# Covariance\n",
    "\n",
    "data.cov()"
   ]
  },
  {
   "cell_type": "code",
   "execution_count": 4,
   "metadata": {},
   "outputs": [
    {
     "data": {
      "text/html": [
       "<div>\n",
       "<style scoped>\n",
       "    .dataframe tbody tr th:only-of-type {\n",
       "        vertical-align: middle;\n",
       "    }\n",
       "\n",
       "    .dataframe tbody tr th {\n",
       "        vertical-align: top;\n",
       "    }\n",
       "\n",
       "    .dataframe thead th {\n",
       "        text-align: right;\n",
       "    }\n",
       "</style>\n",
       "<table border=\"1\" class=\"dataframe\">\n",
       "  <thead>\n",
       "    <tr style=\"text-align: right;\">\n",
       "      <th></th>\n",
       "      <th>2010</th>\n",
       "      <th>2011</th>\n",
       "      <th>2012</th>\n",
       "      <th>2013</th>\n",
       "      <th>2014</th>\n",
       "    </tr>\n",
       "  </thead>\n",
       "  <tbody>\n",
       "    <tr>\n",
       "      <th>2010</th>\n",
       "      <td>1.000000</td>\n",
       "      <td>0.971250</td>\n",
       "      <td>0.952117</td>\n",
       "      <td>0.929610</td>\n",
       "      <td>0.929884</td>\n",
       "    </tr>\n",
       "    <tr>\n",
       "      <th>2011</th>\n",
       "      <td>0.971250</td>\n",
       "      <td>1.000000</td>\n",
       "      <td>0.986015</td>\n",
       "      <td>0.968181</td>\n",
       "      <td>0.966271</td>\n",
       "    </tr>\n",
       "    <tr>\n",
       "      <th>2012</th>\n",
       "      <td>0.952117</td>\n",
       "      <td>0.986015</td>\n",
       "      <td>1.000000</td>\n",
       "      <td>0.989766</td>\n",
       "      <td>0.985249</td>\n",
       "    </tr>\n",
       "    <tr>\n",
       "      <th>2013</th>\n",
       "      <td>0.929610</td>\n",
       "      <td>0.968181</td>\n",
       "      <td>0.989766</td>\n",
       "      <td>1.000000</td>\n",
       "      <td>0.993375</td>\n",
       "    </tr>\n",
       "    <tr>\n",
       "      <th>2014</th>\n",
       "      <td>0.929884</td>\n",
       "      <td>0.966271</td>\n",
       "      <td>0.985249</td>\n",
       "      <td>0.993375</td>\n",
       "      <td>1.000000</td>\n",
       "    </tr>\n",
       "  </tbody>\n",
       "</table>\n",
       "</div>"
      ],
      "text/plain": [
       "          2010      2011      2012      2013      2014\n",
       "2010  1.000000  0.971250  0.952117  0.929610  0.929884\n",
       "2011  0.971250  1.000000  0.986015  0.968181  0.966271\n",
       "2012  0.952117  0.986015  1.000000  0.989766  0.985249\n",
       "2013  0.929610  0.968181  0.989766  1.000000  0.993375\n",
       "2014  0.929884  0.966271  0.985249  0.993375  1.000000"
      ]
     },
     "execution_count": 4,
     "metadata": {},
     "output_type": "execute_result"
    }
   ],
   "source": [
    "# correlation\n",
    "\n",
    "data.corr()"
   ]
  },
  {
   "cell_type": "code",
   "execution_count": 5,
   "metadata": {},
   "outputs": [
    {
     "data": {
      "image/png": "[encoded data removed]",
      "text/plain": [
       "<Figure size 576x360 with 2 Axes>"
      ]
     },
     "metadata": {},
     "output_type": "display_data"
    }
   ],
   "source": [
    "sns.heatmap(data.corr())\n",
    "plt.show()"
   ]
  },
  {
   "cell_type": "markdown",
   "execution_count": null,
   "metadata": {},
   "source": [
    "<h1 style=\"font-size:40px\">Checking null and duplicate values</h1>"
   ]
  },
  {
   "cell_type": "code",
   "execution_count": 6,
   "metadata": {},
   "outputs": [
    {
     "data": {
      "text/plain": [
       "Country Name    0\n",
       "Country Code    0\n",
       "2010            0\n",
       "2011            0\n",
       "2012            0\n",
       "2013            0\n",
       "2014            0\n",
       "dtype: int64"
      ]
     },
     "execution_count": 6,
     "metadata": {},
     "output_type": "execute_result"
    }
   ],
   "source": [
    "#checking for null values\n",
    "\n",
    "data.isnull().sum()"
   ]
  },
  {
   "cell_type": "code",
   "execution_count": 7,
   "metadata": {},
   "outputs": [],
   "source": [
    "#dropping duplicates\n",
    "\n",
    "data = data.drop_duplicates()"
   ]
  },
  {
   "cell_type": "markdown",
   "execution_count": null,
   "metadata": {},
   "source": [
    "<h1 style=\"font-size:40px\">Distribution of the Variables</h1>"
   ]
  },
  {
   "cell_type": "code",
   "execution_count": 8,
   "metadata": {
    "_kg_hide-input": true
   },
   "outputs": [
    {
     "data": {
      "text/html": [
       "        <script type=\"text/javascript\">\n",
       "        window.PlotlyConfig = {MathJaxConfig: 'local'};\n",
       "        if (window.MathJax) {MathJax.Hub.Config({SVG: {font: \"STIX-Web\"}});}\n",
       "        if (typeof require !== 'undefined') {\n",
       "        require.undef(\"plotly\");\n",
       "        requirejs.config({\n",
       "            paths: {\n",
       "                'plotly': ['https://cdn.plot.ly/plotly-latest.min']\n",
       "            }\n",
       "        });\n",
       "        require(['plotly'], function(Plotly) {\n",
       "            window._Plotly = Plotly;\n",
       "        });\n",
       "        }\n",
       "        </script>\n",
       "        "
      ]
     },
     "metadata": {},
     "output_type": "display_data"
    },
    {
     "data": {
      "text/html": [
       "<div>\n",
       "        \n",
       "        \n",
       "            <div id=\"cdc32453-64cc-43c3-8b42-ec28bb877692\" class=\"plotly-graph-div\" style=\"height:525px; width:100%;\"></div>\n",
       "            <script type=\"text/javascript\">\n",
       "                require([\"plotly\"], function(Plotly) {\n",
       "                    window.PLOTLYENV=window.PLOTLYENV || {};\n",
       "                    \n",
       "                if (document.getElementById(\"cdc32453-64cc-43c3-8b42-ec28bb877692\")) {\n",
       "                    Plotly.newPlot(\n",
       "                        'cdc32453-64cc-43c3-8b42-ec28bb877692',\n",
       "                        [{\"alignmentgroup\": \"True\", \"hovertemplate\": \"variable=%{x}<br>value=%{y}<extra></extra>\", \"legendgroup\": \"\", \"marker\": {\"color\": \"#636efa\"}, \"name\": \"\", \"notched\": false, \"offsetgroup\": \"\", \"orientation\": \"v\", \"showlegend\": false, \"type\": \"box\", \"x\": [\"2010\", \"2010\", \"2010\", \"2010\", \"2010\", \"2010\", \"2010\", \"2010\", \"2010\", \"2010\", \"2010\", \"2010\", \"2010\", \"2010\", \"2010\", \"2010\", \"2010\", \"2010\", \"2010\", \"2010\", \"2010\", \"2010\", \"2010\", \"2010\", \"2010\", \"2010\", \"2010\", \"2010\", \"2010\", \"2010\", \"2010\", \"2010\", \"2010\", \"2010\", \"2010\", \"2010\", \"2010\", \"2010\", \"2010\", \"2010\", \"2010\", \"2010\", \"2010\", \"2010\", \"2010\", \"2010\", \"2010\", \"2010\", \"2010\", \"2010\", \"2010\", \"2010\", \"2010\", \"2010\", \"2010\", \"2010\", \"2010\", \"2010\", \"2010\", \"2010\", \"2010\", \"2010\", \"2010\", \"2010\", \"2010\", \"2010\", \"2010\", \"2010\", \"2010\", \"2010\", \"2010\", \"2010\", \"2010\", \"2010\", \"2010\", \"2010\", \"2010\", \"2010\", \"2010\", \"2010\", \"2010\", \"2010\", \"2010\", \"2010\", \"2010\", \"2010\", \"2010\", \"2010\", \"2010\", \"2010\", \"2010\", \"2010\", \"2010\", \"2010\", \"2010\", \"2010\", \"2010\", \"2010\", \"2010\", \"2010\", \"2010\", \"2010\", \"2010\", \"2010\", \"2010\", \"2010\", \"2010\", \"2010\", \"2010\", \"2010\", \"2010\", \"2010\", \"2010\", \"2010\", \"2010\", \"2010\", \"2010\", \"2010\", \"2010\", \"2010\", \"2010\", \"2010\", \"2010\", \"2010\", \"2010\", \"2010\", \"2010\", \"2010\", \"2010\", \"2010\", \"2010\", \"2010\", \"2010\", \"2010\", \"2010\", \"2010\", \"2010\", \"2010\", \"2010\", \"2010\", \"2010\", \"2010\", \"2010\", \"2010\", \"2010\", \"2010\", \"2010\", \"2010\", \"2010\", \"2010\", \"2010\", \"2010\", \"2010\", \"2010\", \"2010\", \"2010\", \"2010\", \"2010\", \"2010\", \"2010\", \"2010\", \"2010\", \"2010\", \"2010\", \"2010\", \"2010\", \"2010\", \"2010\", \"2010\", \"2010\", \"2010\", \"2010\", \"2010\", \"2010\", \"2010\", \"2010\", \"2010\", \"2010\", \"2010\", \"2010\", \"2010\", \"2010\", \"2010\", \"2010\", \"2010\", \"2010\", \"2010\", \"2010\", \"2010\", \"2010\", \"2010\", \"2010\", \"2010\", \"2010\", \"2010\", \"2010\", \"2010\", \"2010\", \"2010\", \"2010\", \"2010\", \"2010\", \"2010\", \"2010\", \"2010\", \"2010\", \"2010\", \"2010\", \"2010\", \"2010\", \"2010\", \"2010\", \"2010\", \"2010\", \"2010\", \"2010\", \"2010\", \"2010\", \"2010\", \"2011\", \"2011\", \"2011\", \"2011\", \"2011\", \"2011\", \"2011\", \"2011\", \"2011\", \"2011\", \"2011\", \"2011\", \"2011\", \"2011\", \"2011\", \"2011\", \"2011\", \"2011\", \"2011\", \"2011\", \"2011\", \"2011\", \"2011\", \"2011\", \"2011\", \"2011\", \"2011\", \"2011\", \"2011\", \"2011\", \"2011\", \"2011\", \"2011\", \"2011\", \"2011\", \"2011\", \"2011\", \"2011\", \"2011\", \"2011\", \"2011\", \"2011\", \"2011\", \"2011\", \"2011\", \"2011\", \"2011\", \"2011\", \"2011\", \"2011\", \"2011\", \"2011\", \"2011\", \"2011\", \"2011\", \"2011\", \"2011\", \"2011\", \"2011\", \"2011\", \"2011\", \"2011\", \"2011\", \"2011\", \"2011\", \"2011\", \"2011\", \"2011\", \"2011\", \"2011\", \"2011\", \"2011\", \"2011\", \"2011\", \"2011\", \"2011\", \"2011\", \"2011\", \"2011\", \"2011\", \"2011\", \"2011\", \"2011\", \"2011\", \"2011\", \"2011\", \"2011\", \"2011\", \"2011\", \"2011\", \"2011\", \"2011\", \"2011\", \"2011\", \"2011\", \"2011\", \"2011\", \"2011\", \"2011\", \"2011\", \"2011\", \"2011\", \"2011\", \"2011\", \"2011\", \"2011\", \"2011\", \"2011\", \"2011\", \"2011\", \"2011\", \"2011\", \"2011\", \"2011\", \"2011\", \"2011\", \"2011\", \"2011\", \"2011\", \"2011\", \"2011\", \"2011\", \"2011\", \"2011\", \"2011\", \"2011\", \"2011\", \"2011\", \"2011\", \"2011\", \"2011\", \"2011\", \"2011\", \"2011\", \"2011\", \"2011\", \"2011\", \"2011\", \"2011\", \"2011\", \"2011\", \"2011\", \"2011\", \"2011\", \"2011\", \"2011\", \"2011\", \"2011\", \"2011\", \"2011\", \"2011\", \"2011\", \"2011\", \"2011\", \"2011\", \"2011\", \"2011\", \"2011\", \"2011\", \"2011\", \"2011\", \"2011\", \"2011\", \"2011\", \"2011\", \"2011\", \"2011\", \"2011\", \"2011\", \"2011\", \"2011\", \"2011\", \"2011\", \"2011\", \"2011\", \"2011\", \"2011\", \"2011\", \"2011\", \"2011\", \"2011\", \"2011\", \"2011\", \"2011\", \"2011\", \"2011\", \"2011\", \"2011\", \"2011\", \"2011\", \"2011\", \"2011\", \"2011\", \"2011\", \"2011\", \"2011\", \"2011\", \"2011\", \"2011\", \"2011\", \"2011\", \"2011\", \"2011\", \"2011\", \"2011\", \"2011\", \"2011\", \"2011\", \"2011\", \"2011\", \"2011\", \"2011\", \"2011\", \"2011\", \"2011\", \"2011\", \"2011\", \"2011\", \"2011\", \"2012\", \"2012\", \"2012\", \"2012\", \"2012\", \"2012\", \"2012\", \"2012\", \"2012\", \"2012\", \"2012\", \"2012\", \"2012\", \"2012\", \"2012\", \"2012\", \"2012\", \"2012\", \"2012\", \"2012\", \"2012\", \"2012\", \"2012\", \"2012\", \"2012\", \"2012\", \"2012\", \"2012\", \"2012\", \"2012\", \"2012\", \"2012\", \"2012\", \"2012\", \"2012\", \"2012\", \"2012\", \"2012\", \"2012\", \"2012\", \"2012\", \"2012\", \"2012\", \"2012\", \"2012\", \"2012\", \"2012\", \"2012\", \"2012\", \"2012\", \"2012\", \"2012\", \"2012\", \"2012\", \"2012\", \"2012\", \"2012\", \"2012\", \"2012\", \"2012\", \"2012\", \"2012\", \"2012\", \"2012\", \"2012\", \"2012\", \"2012\", \"2012\", \"2012\", \"2012\", \"2012\", \"2012\", \"2012\", \"2012\", \"2012\", \"2012\", \"2012\", \"2012\", \"2012\", \"2012\", \"2012\", \"2012\", \"2012\", \"2012\", \"2012\", \"2012\", \"2012\", \"2012\", \"2012\", \"2012\", \"2012\", \"2012\", \"2012\", \"2012\", \"2012\", \"2012\", \"2012\", \"2012\", \"2012\", \"2012\", \"2012\", \"2012\", \"2012\", \"2012\", \"2012\", \"2012\", \"2012\", \"2012\", \"2012\", \"2012\", \"2012\", \"2012\", \"2012\", \"2012\", \"2012\", \"2012\", \"2012\", \"2012\", \"2012\", \"2012\", \"2012\", \"2012\", \"2012\", \"2012\", \"2012\", \"2012\", \"2012\", \"2012\", \"2012\", \"2012\", \"2012\", \"2012\", \"2012\", \"2012\", \"2012\", \"2012\", \"2012\", \"2012\", \"2012\", \"2012\", \"2012\", \"2012\", \"2012\", \"2012\", \"2012\", \"2012\", \"2012\", \"2012\", \"2012\", \"2012\", \"2012\", \"2012\", \"2012\", \"2012\", \"2012\", \"2012\", \"2012\", \"2012\", \"2012\", \"2012\", \"2012\", \"2012\", \"2012\", \"2012\", \"2012\", \"2012\", \"2012\", \"2012\", \"2012\", \"2012\", \"2012\", \"2012\", \"2012\", \"2012\", \"2012\", \"2012\", \"2012\", \"2012\", \"2012\", \"2012\", \"2012\", \"2012\", \"2012\", \"2012\", \"2012\", \"2012\", \"2012\", \"2012\", \"2012\", \"2012\", \"2012\", \"2012\", \"2012\", \"2012\", \"2012\", \"2012\", \"2012\", \"2012\", \"2012\", \"2012\", \"2012\", \"2012\", \"2012\", \"2012\", \"2012\", \"2012\", \"2012\", \"2012\", \"2012\", \"2012\", \"2012\", \"2012\", \"2012\", \"2012\", \"2012\", \"2012\", \"2012\", \"2012\", \"2012\", \"2013\", \"2013\", \"2013\", \"2013\", \"2013\", \"2013\", \"2013\", \"2013\", \"2013\", \"2013\", \"2013\", \"2013\", \"2013\", \"2013\", \"2013\", \"2013\", \"2013\", \"2013\", \"2013\", \"2013\", \"2013\", \"2013\", \"2013\", \"2013\", \"2013\", \"2013\", \"2013\", \"2013\", \"2013\", \"2013\", \"2013\", \"2013\", \"2013\", \"2013\", \"2013\", \"2013\", \"2013\", \"2013\", \"2013\", \"2013\", \"2013\", \"2013\", \"2013\", \"2013\", \"2013\", \"2013\", \"2013\", \"2013\", \"2013\", \"2013\", \"2013\", \"2013\", \"2013\", \"2013\", \"2013\", \"2013\", \"2013\", \"2013\", \"2013\", \"2013\", \"2013\", \"2013\", \"2013\", \"2013\", \"2013\", \"2013\", \"2013\", \"2013\", \"2013\", \"2013\", \"2013\", \"2013\", \"2013\", \"2013\", \"2013\", \"2013\", \"2013\", \"2013\", \"2013\", \"2013\", \"2013\", \"2013\", \"2013\", \"2013\", \"2013\", \"2013\", \"2013\", \"2013\", \"2013\", \"2013\", \"2013\", \"2013\", \"2013\", \"2013\", \"2013\", \"2013\", \"2013\", \"2013\", \"2013\", \"2013\", \"2013\", \"2013\", \"2013\", \"2013\", \"2013\", \"2013\", \"2013\", \"2013\", \"2013\", \"2013\", \"2013\", \"2013\", \"2013\", \"2013\", \"2013\", \"2013\", \"2013\", \"2013\", \"2013\", \"2013\", \"2013\", \"2013\", \"2013\", \"2013\", \"2013\", \"2013\", \"2013\", \"2013\", \"2013\", \"2013\", \"2013\", \"2013\", \"2013\", \"2013\", \"2013\", \"2013\", \"2013\", \"2013\", \"2013\", \"2013\", \"2013\", \"2013\", \"2013\", \"2013\", \"2013\", \"2013\", \"2013\", \"2013\", \"2013\", \"2013\", \"2013\", \"2013\", \"2013\", \"2013\", \"2013\", \"2013\", \"2013\", \"2013\", \"2013\", \"2013\", \"2013\", \"2013\", \"2013\", \"2013\", \"2013\", \"2013\", \"2013\", \"2013\", \"2013\", \"2013\", \"2013\", \"2013\", \"2013\", \"2013\", \"2013\", \"2013\", \"2013\", \"2013\", \"2013\", \"2013\", \"2013\", \"2013\", \"2013\", \"2013\", \"2013\", \"2013\", \"2013\", \"2013\", \"2013\", \"2013\", \"2013\", \"2013\", \"2013\", \"2013\", \"2013\", \"2013\", \"2013\", \"2013\", \"2013\", \"2013\", \"2013\", \"2013\", \"2013\", \"2013\", \"2013\", \"2013\", \"2013\", \"2013\", \"2013\", \"2013\", \"2013\", \"2013\", \"2013\", \"2013\", \"2013\", \"2013\", \"2013\", \"2013\", \"2013\", \"2014\", \"2014\", \"2014\", \"2014\", \"2014\", \"2014\", \"2014\", \"2014\", \"2014\", \"2014\", \"2014\", \"2014\", \"2014\", \"2014\", \"2014\", \"2014\", \"2014\", \"2014\", \"2014\", \"2014\", \"2014\", \"2014\", \"2014\", \"2014\", \"2014\", \"2014\", \"2014\", \"2014\", \"2014\", \"2014\", \"2014\", \"2014\", \"2014\", \"2014\", \"2014\", \"2014\", \"2014\", \"2014\", \"2014\", \"2014\", \"2014\", \"2014\", \"2014\", \"2014\", \"2014\", \"2014\", \"2014\", \"2014\", \"2014\", \"2014\", \"2014\", \"2014\", \"2014\", \"2014\", \"2014\", \"2014\", \"2014\", \"2014\", \"2014\", \"2014\", \"2014\", \"2014\", \"2014\", \"2014\", \"2014\", \"2014\", \"2014\", \"2014\", \"2014\", \"2014\", \"2014\", \"2014\", \"2014\", \"2014\", \"2014\", \"2014\", \"2014\", \"2014\", \"2014\", \"2014\", \"2014\", \"2014\", \"2014\", \"2014\", \"2014\", \"2014\", \"2014\", \"2014\", \"2014\", \"2014\", \"2014\", \"2014\", \"2014\", \"2014\", \"2014\", \"2014\", \"2014\", \"2014\", \"2014\", \"2014\", \"2014\", \"2014\", \"2014\", \"2014\", \"2014\", \"2014\", \"2014\", \"2014\", \"2014\", \"2014\", \"2014\", \"2014\", \"2014\", \"2014\", \"2014\", \"2014\", \"2014\", \"2014\", \"2014\", \"2014\", \"2014\", \"2014\", \"2014\", \"2014\", \"2014\", \"2014\", \"2014\", \"2014\", \"2014\", \"2014\", \"2014\", \"2014\", \"2014\", \"2014\", \"2014\", \"2014\", \"2014\", \"2014\", \"2014\", \"2014\", \"2014\", \"2014\", \"2014\", \"2014\", \"2014\", \"2014\", \"2014\", \"2014\", \"2014\", \"2014\", \"2014\", \"2014\", \"2014\", \"2014\", \"2014\", \"2014\", \"2014\", \"2014\", \"2014\", \"2014\", \"2014\", \"2014\", \"2014\", \"2014\", \"2014\", \"2014\", \"2014\", \"2014\", \"2014\", \"2014\", \"2014\", \"2014\", \"2014\", \"2014\", \"2014\", \"2014\", \"2014\", \"2014\", \"2014\", \"2014\", \"2014\", \"2014\", \"2014\", \"2014\", \"2014\", \"2014\", \"2014\", \"2014\", \"2014\", \"2014\", \"2014\", \"2014\", \"2014\", \"2014\", \"2014\", \"2014\", \"2014\", \"2014\", \"2014\", \"2014\", \"2014\", \"2014\", \"2014\", \"2014\", \"2014\", \"2014\", \"2014\", \"2014\", \"2014\", \"2014\", \"2014\", \"2014\", \"2014\", \"2014\", \"2014\", \"2014\", \"2014\", \"2014\", \"2014\"], \"x0\": \" \", \"xaxis\": \"x\", \"y\": [20.6000003815, 10.800000190699999, 25.7999992371, 25.0222141591, 9.8000001907, 19.5, 38.2999992371, 11.399999618499999, 8.8000001907, 14.600000381500001, 10.800000190699999, 22.5, 2.0, 5.1999998093, 8.1999998093, 22.8999996185, 10.1999998093, 36.0, 57.2000007629, 13.199999809300001, 20.8999996185, 6.0, 17.2000007629, 25.2999992371, 10.899999618499999, 8.3999996185, 33.0, 10.800000190699999, 14.800000190699999, 24.5585104398, 7.6999998092999995, 18.6000003815, 9.0, 6.1999998092999995, 6.400000095399999, 10.6000003815, 24.2999992371, 10.6000003815, 18.2000007629, 17.0, 25.004049806999998, 6.099999904600001, 16.0, 18.5, 9.6999998093, 14.100000381500001, 25.2999992371, 22.2000007629, 11.0018219321, 14.250745930899999, 10.925129610499999, 19.2243398817, 20.4329997585, 11.300000190699999, 26.2999992371, 22.3871307255, 10.800000190699999, 42.5, 33.2999992371, 7.400000095399999, 22.158531432800004, 16.1362716232, 20.3999996185, 20.1000003815, 22.6000003815, 34.5, 19.6000003815, 36.7999992371, 11.399999618499999, 1.8999999762, 10.6999998093, 10.6999998093, 10.800000190699999, 32.4000015259, 5.6999998092999995, 23.2999992371, 18.5172039316, 12.100000381500001, 9.1000003815, 11.6765798757, 33.5, 19.2999992371, 26.6000003815, 13.960167074800001, 13.2261609855, 11.2509002585, 10.5468182701, 25.0, 11.6561808941, 10.1999998093, 28.0, 28.3999996185, 32.2999992371, 16.1000003815, 13.600000381500001, 27.7999992371, 30.0, 30.1000003815, 9.1000003815, 6.0, 17.1000003815, 16.6000003815, 0.8999999762, 9.6999998093, 10.6000003815, 14.9116958523, 3.2000000476999997, 20.8999996185, 5.0, 43.7999992371, 15.133832565799999, 11.4065996768, 10.3853771252, 18.7999992371, 13.061031019000001, 13.144879639500001, 35.5999984741, 11.5860972485, 35.2000007629, 14.5, 34.9000015259, 5.3000001907, 17.7000007629, 17.7000007629, 6.1999998092999995, 25.3999996185, 25.9238864869, 9.3999996185, 13.4536770278, 53.7000007629, 10.3000001907, 13.199999809300001, 9.3999996185, 26.5049249555, 46.0, 14.100000381500001, 40.7000007629, 46.7000007629, 23.1000003815, 13.800000190699999, 11.0, 18.3279230855, 44.0999984741, 7.1999998092999995, 13.800000190699999, 12.300000190699999, 8.8000001907, 9.1999998093, 4.0, 17.0, 17.2466347948, 19.2999992371, 24.2590077378, 8.1999998093, 14.899999618499999, 9.0, 16.7999992371, 5.400000095399999, 23.3999996185, 13.9968224414, 30.6000003815, 10.1999998093, 22.2999992371, 11.899999618499999, 17.7982556316, 1.5, 22.2999992371, 16.7999992371, 0.6999999881, 9.9432927422, 29.7999992371, 22.7999992371, 13.0, 9.8999996185, 9.1000003815, 5.0999999046, 13.0, 10.5, 45.5, 14.652528896500002, 14.652528896500002, 24.0400469545, 20.7000007629, 33.7000007629, 14.600000381500001, 25.2000007629, 42.0, 19.2999992371, 10.3999996185, 11.0109481038, 19.647733653299998, 10.800000190699999, 4.0, 17.2999992371, 20.6000003815, 15.1664579574, 26.3688761612, 13.100000381500001, 9.9432927422, 14.652528896500002, 14.0, 29.3999996185, 21.2000007629, 5.599999904600001, 7.400000095399999, 17.3999996185, 13.918079468299998, 20.7999992371, 18.7000007629, 20.6000003815, 17.5, 6.099999904600001, 37.7000007629, 13.784956937999999, 30.2999992371, 50.7999992371, 12.300000190699999, 26.3999996185, 9.6000003815, 20.8999996185, 10.6999998093, 27.0, 28.1175156719, 9.8000001907, 18.7999992371, 38.7000007629, 11.399999618499999, 8.1999998093, 14.5, 10.800000190699999, 18.6000003815, 2.0, 5.3000001907, 8.1999998093, 25.2000007629, 11.399999618499999, 27.2000007629, 57.0999984741, 12.5, 24.2999992371, 5.5, 15.199999809300001, 25.5, 10.899999618499999, 8.3999996185, 33.2000007629, 10.800000190699999, 14.100000381500001, 25.4807708113, 7.599999904600001, 17.6000003815, 9.3000001907, 6.3000001907000005, 6.400000095399999, 10.800000190699999, 23.2000007629, 10.6000003815, 18.1000003815, 17.0, 23.8588269577, 6.6999998092999995, 21.3999996185, 17.8999996185, 8.3999996185, 14.300000190699999, 30.0, 22.5, 10.6879596678, 14.1804193217, 10.5861371093, 18.3308470973, 20.229570078, 10.6999998093, 33.9000015259, 22.9145776032, 10.6000003815, 47.0999984741, 22.6000003815, 7.5, 22.7935958464, 16.6835495077, 18.8999996185, 20.1000003815, 21.8999996185, 34.5, 20.1000003815, 36.5999984741, 9.3999996185, 1.3999999762, 11.100000381500001, 10.6000003815, 10.6000003815, 44.0999984741, 7.400000095399999, 22.8999996185, 18.184176411099997, 9.1999998093, 8.3000001907, 11.631834993499998, 36.5999984741, 16.7000007629, 26.0, 13.990206235499999, 13.1978435626, 11.122135384000002, 10.247668414, 21.3999996185, 11.6193877364, 10.3000001907, 29.1000003815, 28.3999996185, 32.4000015259, 14.600000381500001, 11.600000381500001, 29.1000003815, 29.5, 31.6000003815, 8.0, 5.3000001907, 17.1000003815, 15.899999618499999, 0.6999999881, 9.6999998093, 21.6000003815, 14.2396892512, 3.2000000476999997, 20.7999992371, 5.0, 42.5999984741, 14.4331485565, 11.4529094727, 10.4210607509, 16.8999996185, 13.128081849900001, 13.1108294382, 37.7999992371, 11.4973497225, 32.0, 16.7999992371, 31.0, 5.8000001907000005, 17.7999992371, 15.100000381500001, 6.1999998092999995, 25.5, 28.7121316339, 10.0, 13.42221763, 55.4000015259, 10.3999996185, 14.0, 9.3999996185, 29.635392248200002, 37.2000007629, 9.0, 40.7000007629, 46.7000007629, 21.7000007629, 13.899999618499999, 10.0, 17.0869456394, 40.0999984741, 7.3000001907000005, 13.800000190699999, 11.600000381500001, 7.5, 8.6999998093, 4.0, 17.2000007629, 16.7646677229, 19.0, 23.5371739131, 8.1000003815, 11.899999618499999, 9.5, 16.1000003815, 5.3000001907, 25.5, 14.0709136192, 30.1000003815, 10.3000001907, 30.0, 10.1999998093, 17.476304986600002, 1.7000000477000001, 23.8999996185, 15.300000190699999, 0.6999999881, 9.9950869587, 30.1000003815, 22.7000007629, 12.399999618499999, 9.1999998093, 8.8999996185, 5.0999999046, 12.0, 10.5, 50.4000015259, 14.5239079316, 14.5239079316, 23.2682815637, 19.0, 33.0999984741, 15.800000190699999, 23.2000007629, 42.2000007629, 33.7000007629, 10.899999618499999, 10.692483428300001, 19.00293831, 10.800000190699999, 2.9000000954000003, 16.3999996185, 21.0, 14.4500444763, 29.578358342199998, 12.600000381500001, 9.9950869587, 14.5239079316, 11.199999809300001, 42.7000007629, 17.8999996185, 6.599999904600001, 7.400000095399999, 19.0, 13.7796054369, 17.8999996185, 17.3999996185, 20.6000003815, 17.3999996185, 5.3000001907, 34.0999984741, 13.7146725708, 30.0, 50.0999984741, 12.300000190699999, 26.6000003815, 8.3000001907, 19.7000007629, 10.6999998093, 28.2999992371, 29.1132120157, 9.8000001907, 18.3999996185, 35.0, 11.699999809300001, 8.6999998093, 14.300000190699999, 10.800000190699999, 19.7000007629, 2.0, 5.1999998093, 8.1999998093, 28.2000007629, 10.5, 30.3999996185, 61.7000007629, 11.800000190699999, 26.0, 5.5, 14.399999618499999, 26.5, 11.0, 6.400000095399999, 33.2999992371, 10.6999998093, 14.300000190699999, 26.3224709199, 8.5, 16.2000007629, 9.6999998093, 6.0, 6.400000095399999, 10.800000190699999, 20.6000003815, 10.5, 18.2999992371, 18.7999992371, 25.977573554699998, 6.8000001907000005, 26.7999992371, 19.6000003815, 8.1000003815, 14.100000381500001, 30.8999996185, 26.2999992371, 10.8914205757, 14.328332245999999, 10.7546950254, 17.8410419476, 21.1039424262, 10.899999618499999, 37.9000015259, 25.8080948858, 10.6000003815, 54.2999992371, 21.0, 7.900000095399999, 25.0325857728, 16.614889383, 17.7999992371, 20.2000007629, 23.7999992371, 34.5999984741, 21.3999996185, 33.7999992371, 7.400000095399999, 1.3999999762, 10.6999998093, 11.0, 10.6999998093, 54.7000007629, 5.599999904600001, 23.1000003815, 18.6535688815, 9.3000001907, 7.099999904600001, 11.488854950999999, 44.0999984741, 17.2999992371, 27.8999996185, 14.209126115799998, 13.3127821382, 11.0372710863, 10.1711132437, 20.2999992371, 11.5225699711, 10.6999998093, 30.3999996185, 28.2999992371, 32.4000015259, 13.399999618499999, 12.300000190699999, 35.2000007629, 32.9000015259, 31.2999992371, 7.8000001907000005, 4.5999999046, 17.2999992371, 16.6000003815, 0.5, 8.8999996185, 21.1000003815, 13.5186341205, 3.2999999523000003, 20.7999992371, 5.0, 46.2000007629, 13.6953862209, 11.4318319651, 10.4052704834, 16.6000003815, 13.2310228301, 13.228547004700001, 36.0, 11.5680537652, 26.2000007629, 18.5, 28.2999992371, 5.0, 18.5, 13.100000381500001, 6.1999998092999995, 26.6000003815, 29.6506746376, 9.5, 13.5683010521, 53.7999992371, 10.5, 14.300000190699999, 9.3000001907, 30.8900884188, 41.2999992371, 9.6000003815, 40.7000007629, 46.5, 23.7000007629, 14.0, 10.1999998093, 16.2916509649, 34.2000007629, 7.1999998092999995, 13.699999809300001, 10.6000003815, 9.5, 8.6000003815, 4.0, 17.7000007629, 17.0854436491, 18.7999992371, 22.874889468000003, 8.1000003815, 10.0, 8.5, 16.3999996185, 5.400000095399999, 26.3999996185, 13.9639987078, 27.3999996185, 10.6999998093, 37.5999984741, 10.3999996185, 18.0182468532, 1.6000000238, 22.7999992371, 15.0, 0.6999999881, 10.2706743646, 28.0, 22.7000007629, 12.300000190699999, 9.0, 9.3000001907, 5.0, 11.899999618499999, 10.5, 50.5999984741, 14.5036988421, 14.5036988421, 23.137585569499997, 17.3999996185, 33.9000015259, 20.6000003815, 24.2000007629, 42.0, 33.7000007629, 10.6000003815, 10.8937273751, 18.6757055922, 10.6999998093, 3.0999999045999997, 15.399999618499999, 20.7000007629, 13.7070499633, 30.8039497523, 13.399999618499999, 10.2706743646, 14.5036988421, 12.399999618499999, 32.7999992371, 17.1000003815, 6.0, 7.400000095399999, 17.2999992371, 13.9928119905, 18.5, 16.5, 20.6000003815, 17.1000003815, 5.0, 37.2999992371, 13.8742928945, 30.2000007629, 52.2000007629, 12.300000190699999, 26.6000003815, 8.3000001907, 21.1000003815, 10.6000003815, 28.7000007629, 29.335306043600003, 9.8999996185, 19.7000007629, 32.5, 12.199999809300001, 9.1000003815, 13.399999618499999, 10.800000190699999, 23.1000003815, 1.7999999522999999, 5.1999998093, 8.8999996185, 29.7000007629, 10.6000003815, 30.7999992371, 57.4000015259, 12.0, 22.3999996185, 5.0999999046, 14.699999809300001, 26.2000007629, 11.300000190699999, 10.3999996185, 32.7999992371, 12.0, 13.800000190699999, 26.775458960500004, 8.8000001907, 16.1000003815, 10.1000003815, 6.0, 6.3000001907000005, 10.800000190699999, 16.8999996185, 10.5, 18.2999992371, 19.8999996185, 26.4774603156, 6.900000095399999, 36.9000015259, 18.8999996185, 7.8000001907000005, 13.0, 31.8999996185, 20.3999996185, 11.5114838399, 14.223181043399999, 11.2969454042, 17.2950161076, 21.183220361900002, 9.8000001907, 41.7000007629, 26.9388896771, 10.800000190699999, 57.0999984741, 18.7000007629, 6.599999904600001, 25.7172686389, 16.603434421, 19.6000003815, 19.6000003815, 23.7000007629, 35.7000007629, 20.2999992371, 35.7000007629, 1.8999999762, 1.5, 10.6999998093, 11.0, 11.0, 58.0, 5.6999998092999995, 23.3999996185, 18.5891129546, 8.8999996185, 6.900000095399999, 11.0571851449, 50.2999992371, 17.0, 27.0, 14.303289810999999, 13.354772280799999, 11.0279282434, 10.4813534497, 21.7999992371, 11.329306649000001, 10.3999996185, 26.7000007629, 28.7999992371, 32.0999984741, 11.100000381500001, 10.6999998093, 39.7000007629, 35.7000007629, 33.2999992371, 6.8000001907000005, 4.0999999046, 17.2999992371, 15.300000190699999, 0.6999999881, 9.1999998093, 20.5, 13.212545387, 3.2999999523000003, 20.2000007629, 4.5999999046, 47.0, 13.3923166452, 11.4073686823, 10.2164079288, 18.3999996185, 13.320711411400001, 13.2690248166, 30.5, 11.8162114064, 21.8999996185, 19.2000007629, 23.1000003815, 3.5, 18.3999996185, 13.5, 5.599999904600001, 26.0, 29.933500029, 9.3999996185, 13.651923726800002, 51.7999992371, 10.5, 14.100000381500001, 9.3000001907, 31.211483252199997, 40.5, 9.6000003815, 40.7000007629, 46.5999984741, 21.8999996185, 13.899999618499999, 10.6000003815, 15.610488135, 40.5999984741, 7.1999998092999995, 13.600000381500001, 7.6999998092999995, 11.0, 9.1000003815, 4.0, 15.800000190699999, 16.9238188398, 18.6000003815, 23.211869016199998, 8.3000001907, 10.1000003815, 8.6999998093, 16.6000003815, 5.5, 27.2000007629, 13.9281007043, 28.1000003815, 10.6000003815, 37.7999992371, 10.5, 17.8901622731, 1.2000000477, 23.7999992371, 14.100000381500001, 0.6999999881, 10.1897166407, 28.7000007629, 23.0, 13.0, 9.0, 9.3999996185, 4.9000000954, 11.199999809300001, 10.6000003815, 49.7000007629, 14.050604189500001, 14.050604189500001, 23.4711215706, 15.5, 33.5, 22.7999992371, 23.7999992371, 42.0, 32.4000015259, 10.6999998093, 11.5228964301, 18.2843710363, 10.6999998093, 3.2000000476999997, 15.699999809300001, 20.6000003815, 13.391826529100001, 31.1058772791, 13.399999618499999, 10.1897166407, 14.050604189500001, 9.1000003815, 31.2999992371, 16.5, 5.3000001907, 7.400000095399999, 16.0, 14.0862274063, 18.1000003815, 15.800000190699999, 20.5, 14.800000190699999, 6.3000001907000005, 38.7000007629, 13.903831911300001, 30.2000007629, 51.4000015259, 12.199999809300001, 25.5, 8.8999996185, 20.7999992371, 10.5, 29.2000007629, 29.7045691168, 10.0, 21.2999992371, 35.0999984741, 13.100000381500001, 9.1999998093, 13.600000381500001, 10.6999998093, 23.6000003815, 1.7000000477000001, 5.0, 9.1000003815, 25.8999996185, 10.899999618499999, 30.1000003815, 57.5, 12.0, 22.0, 5.1999998093, 15.199999809300001, 26.7999992371, 11.100000381500001, 10.0, 33.9000015259, 11.899999618499999, 13.399999618499999, 24.326735182600004, 8.6999998093, 16.3999996185, 10.5, 5.8000001907000005, 6.6999998092999995, 10.6999998093, 18.8999996185, 10.6000003815, 18.7999992371, 19.2000007629, 24.5967753715, 7.099999904600001, 35.7000007629, 16.7000007629, 7.599999904600001, 12.399999618499999, 31.3999996185, 20.0, 11.7905789249, 14.3505036316, 11.570404903, 17.2492839678, 20.8899802535, 10.800000190699999, 42.0, 27.583945983899998, 10.899999618499999, 57.9000015259, 17.0, 7.099999904600001, 25.1161391909, 16.6622614164, 19.2000007629, 18.6000003815, 23.8999996185, 35.5, 16.7000007629, 34.0999984741, 3.2999999523000003, 1.7000000477000001, 10.6000003815, 11.100000381500001, 12.600000381500001, 53.9000015259, 5.400000095399999, 23.7999992371, 17.831891963, 8.5, 6.900000095399999, 11.1249198842, 45.9000015259, 17.1000003815, 21.0, 14.5445281104, 13.5311260249, 11.128515701900001, 10.619027829, 21.7999992371, 11.4049084151, 10.3999996185, 25.7999992371, 29.3999996185, 34.5999984741, 10.899999618499999, 11.0, 44.0999984741, 30.5, 28.7999992371, 6.5, 3.5, 17.3999996185, 14.699999809300001, 0.8999999762, 10.3999996185, 19.3999996185, 13.864309649700001, 3.4000000954000003, 20.7000007629, 4.5999999046, 48.9000015259, 14.030339621800001, 11.4583220967, 10.229319291, 19.1000003815, 13.3848246193, 13.4670080071, 33.0, 12.0656138909, 21.5, 16.0, 19.2999992371, 2.9000000954000003, 20.2000007629, 8.5, 5.1999998093, 26.8999996185, 30.40355258, 9.8999996185, 13.890204546500001, 50.7999992371, 10.5, 13.600000381500001, 9.5, 31.683832911, 39.5, 9.3000001907, 40.7000007629, 46.5999984741, 21.2000007629, 13.800000190699999, 6.6999998092999995, 13.9430995948, 38.7000007629, 7.099999904600001, 13.600000381500001, 7.599999904600001, 11.100000381500001, 8.3999996185, 4.0, 14.600000381500001, 16.4083208222, 18.7999992371, 23.321337442199997, 8.6000003815, 11.0, 9.1999998093, 16.3999996185, 5.400000095399999, 24.0, 13.979841325499999, 27.7999992371, 10.6000003815, 36.7999992371, 9.3000001907, 17.1987833422, 1.2999999523, 25.1000003815, 12.899999618499999, 0.6999999881, 10.2511491142, 29.5, 23.2999992371, 13.0, 9.6000003815, 9.5, 4.9000000954, 11.699999809300001, 10.6000003815, 49.5, 14.1242997443, 14.1242997443, 23.1944172222, 17.8999996185, 31.1000003815, 20.7999992371, 22.7999992371, 42.5999984741, 30.1000003815, 10.5, 11.806054095899999, 17.9734925612, 10.6999998093, 3.9000000954000003, 15.5, 20.2000007629, 14.0410692882, 31.5217876817, 14.0, 10.2511491142, 14.1242997443, 10.6000003815, 31.7999992371, 17.7000007629, 5.5, 6.8000001907000005, 16.8999996185, 14.581009233800001, 19.1000003815, 14.0, 20.2999992371, 17.1000003815, 6.3000001907000005, 42.7000007629, 13.9871842021, 29.8999996185, 52.5999984741, 11.899999618499999, 25.1000003815, 9.3999996185], \"y0\": \" \", \"yaxis\": \"y\"}],\n",
       "                        {\"boxmode\": \"group\", \"legend\": {\"tracegroupgap\": 0}, \"margin\": {\"t\": 60}, \"template\": {\"data\": {\"bar\": [{\"error_x\": {\"color\": \"#2a3f5f\"}, \"error_y\": {\"color\": \"#2a3f5f\"}, \"marker\": {\"line\": {\"color\": \"#E5ECF6\", \"width\": 0.5}}, \"type\": \"bar\"}], \"barpolar\": [{\"marker\": {\"line\": {\"color\": \"#E5ECF6\", \"width\": 0.5}}, \"type\": \"barpolar\"}], \"carpet\": [{\"aaxis\": {\"endlinecolor\": \"#2a3f5f\", \"gridcolor\": \"white\", \"linecolor\": \"white\", \"minorgridcolor\": \"white\", \"startlinecolor\": \"#2a3f5f\"}, \"baxis\": {\"endlinecolor\": \"#2a3f5f\", \"gridcolor\": \"white\", \"linecolor\": \"white\", \"minorgridcolor\": \"white\", \"startlinecolor\": \"#2a3f5f\"}, \"type\": \"carpet\"}], \"choropleth\": [{\"colorbar\": {\"outlinewidth\": 0, \"ticks\": \"\"}, \"type\": \"choropleth\"}], \"contour\": [{\"colorbar\": {\"outlinewidth\": 0, \"ticks\": \"\"}, \"colorscale\": [[0.0, \"#0d0887\"], [0.1111111111111111, \"#46039f\"], [0.2222222222222222, \"#7201a8\"], [0.3333333333333333, \"#9c179e\"], [0.4444444444444444, \"#bd3786\"], [0.5555555555555556, \"#d8576b\"], [0.6666666666666666, \"#ed7953\"], [0.7777777777777778, \"#fb9f3a\"], [0.8888888888888888, \"#fdca26\"], [1.0, \"#f0f921\"]], \"type\": \"contour\"}], \"contourcarpet\": [{\"colorbar\": {\"outlinewidth\": 0, \"ticks\": \"\"}, \"type\": \"contourcarpet\"}], \"heatmap\": [{\"colorbar\": {\"outlinewidth\": 0, \"ticks\": \"\"}, \"colorscale\": [[0.0, \"#0d0887\"], [0.1111111111111111, \"#46039f\"], [0.2222222222222222, \"#7201a8\"], [0.3333333333333333, \"#9c179e\"], [0.4444444444444444, \"#bd3786\"], [0.5555555555555556, \"#d8576b\"], [0.6666666666666666, \"#ed7953\"], [0.7777777777777778, \"#fb9f3a\"], [0.8888888888888888, \"#fdca26\"], [1.0, \"#f0f921\"]], \"type\": \"heatmap\"}], \"heatmapgl\": [{\"colorbar\": {\"outlinewidth\": 0, \"ticks\": \"\"}, \"colorscale\": [[0.0, \"#0d0887\"], [0.1111111111111111, \"#46039f\"], [0.2222222222222222, \"#7201a8\"], [0.3333333333333333, \"#9c179e\"], [0.4444444444444444, \"#bd3786\"], [0.5555555555555556, \"#d8576b\"], [0.6666666666666666, \"#ed7953\"], [0.7777777777777778, \"#fb9f3a\"], [0.8888888888888888, \"#fdca26\"], [1.0, \"#f0f921\"]], \"type\": \"heatmapgl\"}], \"histogram\": [{\"marker\": {\"colorbar\": {\"outlinewidth\": 0, \"ticks\": \"\"}}, \"type\": \"histogram\"}], \"histogram2d\": [{\"colorbar\": {\"outlinewidth\": 0, \"ticks\": \"\"}, \"colorscale\": [[0.0, \"#0d0887\"], [0.1111111111111111, \"#46039f\"], [0.2222222222222222, \"#7201a8\"], [0.3333333333333333, \"#9c179e\"], [0.4444444444444444, \"#bd3786\"], [0.5555555555555556, \"#d8576b\"], [0.6666666666666666, \"#ed7953\"], [0.7777777777777778, \"#fb9f3a\"], [0.8888888888888888, \"#fdca26\"], [1.0, \"#f0f921\"]], \"type\": \"histogram2d\"}], \"histogram2dcontour\": [{\"colorbar\": {\"outlinewidth\": 0, \"ticks\": \"\"}, \"colorscale\": [[0.0, \"#0d0887\"], [0.1111111111111111, \"#46039f\"], [0.2222222222222222, \"#7201a8\"], [0.3333333333333333, \"#9c179e\"], [0.4444444444444444, \"#bd3786\"], [0.5555555555555556, \"#d8576b\"], [0.6666666666666666, \"#ed7953\"], [0.7777777777777778, \"#fb9f3a\"], [0.8888888888888888, \"#fdca26\"], [1.0, \"#f0f921\"]], \"type\": \"histogram2dcontour\"}], \"mesh3d\": [{\"colorbar\": {\"outlinewidth\": 0, \"ticks\": \"\"}, \"type\": \"mesh3d\"}], \"parcoords\": [{\"line\": {\"colorbar\": {\"outlinewidth\": 0, \"ticks\": \"\"}}, \"type\": \"parcoords\"}], \"pie\": [{\"automargin\": true, \"type\": \"pie\"}], \"scatter\": [{\"marker\": {\"colorbar\": {\"outlinewidth\": 0, \"ticks\": \"\"}}, \"type\": \"scatter\"}], \"scatter3d\": [{\"line\": {\"colorbar\": {\"outlinewidth\": 0, \"ticks\": \"\"}}, \"marker\": {\"colorbar\": {\"outlinewidth\": 0, \"ticks\": \"\"}}, \"type\": \"scatter3d\"}], \"scattercarpet\": [{\"marker\": {\"colorbar\": {\"outlinewidth\": 0, \"ticks\": \"\"}}, \"type\": \"scattercarpet\"}], \"scattergeo\": [{\"marker\": {\"colorbar\": {\"outlinewidth\": 0, \"ticks\": \"\"}}, \"type\": \"scattergeo\"}], \"scattergl\": [{\"marker\": {\"colorbar\": {\"outlinewidth\": 0, \"ticks\": \"\"}}, \"type\": \"scattergl\"}], \"scattermapbox\": [{\"marker\": {\"colorbar\": {\"outlinewidth\": 0, \"ticks\": \"\"}}, \"type\": \"scattermapbox\"}], \"scatterpolar\": [{\"marker\": {\"colorbar\": {\"outlinewidth\": 0, \"ticks\": \"\"}}, \"type\": \"scatterpolar\"}], \"scatterpolargl\": [{\"marker\": {\"colorbar\": {\"outlinewidth\": 0, \"ticks\": \"\"}}, \"type\": \"scatterpolargl\"}], \"scatterternary\": [{\"marker\": {\"colorbar\": {\"outlinewidth\": 0, \"ticks\": \"\"}}, \"type\": \"scatterternary\"}], \"surface\": [{\"colorbar\": {\"outlinewidth\": 0, \"ticks\": \"\"}, \"colorscale\": [[0.0, \"#0d0887\"], [0.1111111111111111, \"#46039f\"], [0.2222222222222222, \"#7201a8\"], [0.3333333333333333, \"#9c179e\"], [0.4444444444444444, \"#bd3786\"], [0.5555555555555556, \"#d8576b\"], [0.6666666666666666, \"#ed7953\"], [0.7777777777777778, \"#fb9f3a\"], [0.8888888888888888, \"#fdca26\"], [1.0, \"#f0f921\"]], \"type\": \"surface\"}], \"table\": [{\"cells\": {\"fill\": {\"color\": \"#EBF0F8\"}, \"line\": {\"color\": \"white\"}}, \"header\": {\"fill\": {\"color\": \"#C8D4E3\"}, \"line\": {\"color\": \"white\"}}, \"type\": \"table\"}]}, \"layout\": {\"annotationdefaults\": {\"arrowcolor\": \"#2a3f5f\", \"arrowhead\": 0, \"arrowwidth\": 1}, \"coloraxis\": {\"colorbar\": {\"outlinewidth\": 0, \"ticks\": \"\"}}, \"colorscale\": {\"diverging\": [[0, \"#8e0152\"], [0.1, \"#c51b7d\"], [0.2, \"#de77ae\"], [0.3, \"#f1b6da\"], [0.4, \"#fde0ef\"], [0.5, \"#f7f7f7\"], [0.6, \"#e6f5d0\"], [0.7, \"#b8e186\"], [0.8, \"#7fbc41\"], [0.9, \"#4d9221\"], [1, \"#276419\"]], \"sequential\": [[0.0, \"#0d0887\"], [0.1111111111111111, \"#46039f\"], [0.2222222222222222, \"#7201a8\"], [0.3333333333333333, \"#9c179e\"], [0.4444444444444444, \"#bd3786\"], [0.5555555555555556, \"#d8576b\"], [0.6666666666666666, \"#ed7953\"], [0.7777777777777778, \"#fb9f3a\"], [0.8888888888888888, \"#fdca26\"], [1.0, \"#f0f921\"]], \"sequentialminus\": [[0.0, \"#0d0887\"], [0.1111111111111111, \"#46039f\"], [0.2222222222222222, \"#7201a8\"], [0.3333333333333333, \"#9c179e\"], [0.4444444444444444, \"#bd3786\"], [0.5555555555555556, \"#d8576b\"], [0.6666666666666666, \"#ed7953\"], [0.7777777777777778, \"#fb9f3a\"], [0.8888888888888888, \"#fdca26\"], [1.0, \"#f0f921\"]]}, \"colorway\": [\"#636efa\", \"#EF553B\", \"#00cc96\", \"#ab63fa\", \"#FFA15A\", \"#19d3f3\", \"#FF6692\", \"#B6E880\", \"#FF97FF\", \"#FECB52\"], \"font\": {\"color\": \"#2a3f5f\"}, \"geo\": {\"bgcolor\": \"white\", \"lakecolor\": \"white\", \"landcolor\": \"#E5ECF6\", \"showlakes\": true, \"showland\": true, \"subunitcolor\": \"white\"}, \"hoverlabel\": {\"align\": \"left\"}, \"hovermode\": \"closest\", \"mapbox\": {\"style\": \"light\"}, \"paper_bgcolor\": \"white\", \"plot_bgcolor\": \"#E5ECF6\", \"polar\": {\"angularaxis\": {\"gridcolor\": \"white\", \"linecolor\": \"white\", \"ticks\": \"\"}, \"bgcolor\": \"#E5ECF6\", \"radialaxis\": {\"gridcolor\": \"white\", \"linecolor\": \"white\", \"ticks\": \"\"}}, \"scene\": {\"xaxis\": {\"backgroundcolor\": \"#E5ECF6\", \"gridcolor\": \"white\", \"gridwidth\": 2, \"linecolor\": \"white\", \"showbackground\": true, \"ticks\": \"\", \"zerolinecolor\": \"white\"}, \"yaxis\": {\"backgroundcolor\": \"#E5ECF6\", \"gridcolor\": \"white\", \"gridwidth\": 2, \"linecolor\": \"white\", \"showbackground\": true, \"ticks\": \"\", \"zerolinecolor\": \"white\"}, \"zaxis\": {\"backgroundcolor\": \"#E5ECF6\", \"gridcolor\": \"white\", \"gridwidth\": 2, \"linecolor\": \"white\", \"showbackground\": true, \"ticks\": \"\", \"zerolinecolor\": \"white\"}}, \"shapedefaults\": {\"line\": {\"color\": \"#2a3f5f\"}}, \"ternary\": {\"aaxis\": {\"gridcolor\": \"white\", \"linecolor\": \"white\", \"ticks\": \"\"}, \"baxis\": {\"gridcolor\": \"white\", \"linecolor\": \"white\", \"ticks\": \"\"}, \"bgcolor\": \"#E5ECF6\", \"caxis\": {\"gridcolor\": \"white\", \"linecolor\": \"white\", \"ticks\": \"\"}}, \"title\": {\"x\": 0.05}, \"xaxis\": {\"automargin\": true, \"gridcolor\": \"white\", \"linecolor\": \"white\", \"ticks\": \"\", \"title\": {\"standoff\": 15}, \"zerolinecolor\": \"white\", \"zerolinewidth\": 2}, \"yaxis\": {\"automargin\": true, \"gridcolor\": \"white\", \"linecolor\": \"white\", \"ticks\": \"\", \"title\": {\"standoff\": 15}, \"zerolinecolor\": \"white\", \"zerolinewidth\": 2}}}, \"xaxis\": {\"anchor\": \"y\", \"domain\": [0.0, 1.0], \"title\": {\"text\": \"variable\"}}, \"yaxis\": {\"anchor\": \"x\", \"domain\": [0.0, 1.0], \"title\": {\"text\": \"value\"}}},\n",
       "                        {\"responsive\": true}\n",
       "                    ).then(function(){\n",
       "                            \n",
       "var gd = document.getElementById('cdc32453-64cc-43c3-8b42-ec28bb877692');\n",
       "var x = new MutationObserver(function (mutations, observer) {{\n",
       "        var display = window.getComputedStyle(gd).display;\n",
       "        if (!display || display === 'none') {{\n",
       "            console.log([gd, 'removed!']);\n",
       "            Plotly.purge(gd);\n",
       "            observer.disconnect();\n",
       "        }}\n",
       "}});\n",
       "\n",
       "// Listen for the removal of the full notebook cells\n",
       "var notebookContainer = gd.closest('#notebook-container');\n",
       "if (notebookContainer) {{\n",
       "    x.observe(notebookContainer, {childList: true});\n",
       "}}\n",
       "\n",
       "// Listen for the clearing of the current output cell\n",
       "var outputEl = gd.closest('.output');\n",
       "if (outputEl) {{\n",
       "    x.observe(outputEl, {childList: true});\n",
       "}}\n",
       "\n",
       "                        })\n",
       "                };\n",
       "                });\n",
       "            </script>\n",
       "        </div>"
      ]
     },
     "metadata": {},
     "output_type": "display_data"
    }
   ],
   "source": [
    "px.box(data.drop(['Country Name','Country Code'], axis=1))"
   ]
  },
  {
   "cell_type": "code",
   "execution_count": null,
   "metadata": {},
   "outputs": [],
   "source": []
  }
 ],
 "metadata": {
  "kernelspec": {
   "display_name": "Python 3",
   "language": "python",
   "name": "python3"
  },
  "language_info": {
   "codemirror_mode": {
    "name": "ipython",
    "version": 3
   },
   "file_extension": ".py",
   "mimetype": "text/x-python",
   "name": "python",
   "nbconvert_exporter": "python",
   "pygments_lexer": "ipython3",
   "version": "3.7.6"
  }
 },
 "nbformat": 4,
 "nbformat_minor": 4
}
